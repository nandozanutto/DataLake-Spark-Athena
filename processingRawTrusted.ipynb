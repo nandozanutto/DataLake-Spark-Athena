{
 "cells": [
  {
   "cell_type": "code",
   "execution_count": null,
   "metadata": {},
   "outputs": [],
   "source": [
    "from pyspark.sql import SparkSession\n",
    "from pyspark import SparkConf, SparkContext\n",
    "\n",
    "conf = SparkConf().set('spark.ui.port', '4050')\n",
    "sc = SparkContext(conf=conf)\n",
    "sc.stop()\n",
    "\n",
    "spark = (\n",
    "    SparkSession.builder\n",
    "    .appName(\"Desafio2\")\n",
    "    .getOrCreate()\n",
    ")"
   ]
  },
  {
   "cell_type": "code",
   "execution_count": 2,
   "metadata": {},
   "outputs": [
    {
     "name": "stdout",
     "output_type": "stream",
     "text": [
      "download: s3://722687989925-raw/multas.csv to dadosDaRaw/multas.csv\n"
     ]
    }
   ],
   "source": [
    "!aws s3 cp s3://722687989925-raw/ ./dadosDaRaw --recursive"
   ]
  },
  {
   "cell_type": "code",
   "execution_count": null,
   "metadata": {},
   "outputs": [],
   "source": [
    "df = spark.read.csv(\"./dadosDaRaw/multas.csv\", header=True)"
   ]
  },
  {
   "cell_type": "code",
   "execution_count": null,
   "metadata": {},
   "outputs": [],
   "source": [
    "#casting columns\n",
    "from  pyspark.sql.functions import to_date\n",
    "from pyspark.sql.functions import col\n",
    "\n",
    "df_transform = df.withColumn(\n",
    "    \"ultima_multa\",\n",
    "    to_date(\"ultima_multa\", \"yyyy-MM-dd\")\n",
    ")\n",
    "df_transform = df_transform.withColumn(\n",
    "    'total_multas', col('total_multas').cast('int'))"
   ]
  },
  {
   "cell_type": "code",
   "execution_count": null,
   "metadata": {},
   "outputs": [],
   "source": [
    "#dropping rows where sharing data was not allowed\n",
    "df_transform = df_transform.where(df_transform.compartilhou_dados == 'Sim')\n",
    "df_transform = df_transform.drop(\"compartilhou_dados\")"
   ]
  },
  {
   "cell_type": "code",
   "execution_count": 31,
   "metadata": {},
   "outputs": [
    {
     "name": "stderr",
     "output_type": "stream",
     "text": [
      "                                                                                \r"
     ]
    }
   ],
   "source": [
    "#particionando por estado\n",
    "df_transform.write.partitionBy('estado').mode('overwrite').parquet('trusted/')"
   ]
  },
  {
   "cell_type": "code",
   "execution_count": 4,
   "metadata": {},
   "outputs": [
    {
     "name": "stdout",
     "output_type": "stream",
     "text": [
      "upload: trusted/estado=AC/.part-00000-12613c9b-b5e7-413b-81a5-233e587f1d73.c000.snappy.parquet.crc to s3://722687989925-trusted/estado=AC/.part-00000-12613c9b-b5e7-413b-81a5-233e587f1d73.c000.snappy.parquet.crc\n",
      "upload: trusted/estado=AP/.part-00000-12613c9b-b5e7-413b-81a5-233e587f1d73.c000.snappy.parquet.crc to s3://722687989925-trusted/estado=AP/.part-00000-12613c9b-b5e7-413b-81a5-233e587f1d73.c000.snappy.parquet.crc\n",
      "upload: trusted/estado=AM/.part-00000-12613c9b-b5e7-413b-81a5-233e587f1d73.c000.snappy.parquet.crc to s3://722687989925-trusted/estado=AM/.part-00000-12613c9b-b5e7-413b-81a5-233e587f1d73.c000.snappy.parquet.crc\n",
      "upload: trusted/estado=AP/part-00000-12613c9b-b5e7-413b-81a5-233e587f1d73.c000.snappy.parquet to s3://722687989925-trusted/estado=AP/part-00000-12613c9b-b5e7-413b-81a5-233e587f1d73.c000.snappy.parquet\n",
      "upload: trusted/estado=AL/part-00000-12613c9b-b5e7-413b-81a5-233e587f1d73.c000.snappy.parquet to s3://722687989925-trusted/estado=AL/part-00000-12613c9b-b5e7-413b-81a5-233e587f1d73.c000.snappy.parquet\n",
      "upload: trusted/estado=AM/part-00000-12613c9b-b5e7-413b-81a5-233e587f1d73.c000.snappy.parquet to s3://722687989925-trusted/estado=AM/part-00000-12613c9b-b5e7-413b-81a5-233e587f1d73.c000.snappy.parquet\n",
      "upload: trusted/._SUCCESS.crc to s3://722687989925-trusted/._SUCCESS.crc\n",
      "upload: trusted/_SUCCESS to s3://722687989925-trusted/_SUCCESS    \n",
      "upload: trusted/estado=AC/part-00000-12613c9b-b5e7-413b-81a5-233e587f1d73.c000.snappy.parquet to s3://722687989925-trusted/estado=AC/part-00000-12613c9b-b5e7-413b-81a5-233e587f1d73.c000.snappy.parquet\n",
      "upload: trusted/estado=AL/.part-00000-12613c9b-b5e7-413b-81a5-233e587f1d73.c000.snappy.parquet.crc to s3://722687989925-trusted/estado=AL/.part-00000-12613c9b-b5e7-413b-81a5-233e587f1d73.c000.snappy.parquet.crc\n",
      "upload: trusted/estado=CE/part-00000-12613c9b-b5e7-413b-81a5-233e587f1d73.c000.snappy.parquet to s3://722687989925-trusted/estado=CE/part-00000-12613c9b-b5e7-413b-81a5-233e587f1d73.c000.snappy.parquet\n",
      "upload: trusted/estado=BA/.part-00000-12613c9b-b5e7-413b-81a5-233e587f1d73.c000.snappy.parquet.crc to s3://722687989925-trusted/estado=BA/.part-00000-12613c9b-b5e7-413b-81a5-233e587f1d73.c000.snappy.parquet.crc\n",
      "upload: trusted/estado=BA/part-00000-12613c9b-b5e7-413b-81a5-233e587f1d73.c000.snappy.parquet to s3://722687989925-trusted/estado=BA/part-00000-12613c9b-b5e7-413b-81a5-233e587f1d73.c000.snappy.parquet\n",
      "upload: trusted/estado=CE/.part-00000-12613c9b-b5e7-413b-81a5-233e587f1d73.c000.snappy.parquet.crc to s3://722687989925-trusted/estado=CE/.part-00000-12613c9b-b5e7-413b-81a5-233e587f1d73.c000.snappy.parquet.crc\n",
      "upload: trusted/estado=DF/.part-00000-12613c9b-b5e7-413b-81a5-233e587f1d73.c000.snappy.parquet.crc to s3://722687989925-trusted/estado=DF/.part-00000-12613c9b-b5e7-413b-81a5-233e587f1d73.c000.snappy.parquet.crc\n",
      "upload: trusted/estado=GO/.part-00000-12613c9b-b5e7-413b-81a5-233e587f1d73.c000.snappy.parquet.crc to s3://722687989925-trusted/estado=GO/.part-00000-12613c9b-b5e7-413b-81a5-233e587f1d73.c000.snappy.parquet.crc\n",
      "upload: trusted/estado=ES/.part-00000-12613c9b-b5e7-413b-81a5-233e587f1d73.c000.snappy.parquet.crc to s3://722687989925-trusted/estado=ES/.part-00000-12613c9b-b5e7-413b-81a5-233e587f1d73.c000.snappy.parquet.crc\n",
      "upload: trusted/estado=ES/part-00000-12613c9b-b5e7-413b-81a5-233e587f1d73.c000.snappy.parquet to s3://722687989925-trusted/estado=ES/part-00000-12613c9b-b5e7-413b-81a5-233e587f1d73.c000.snappy.parquet\n",
      "upload: trusted/estado=GO/part-00000-12613c9b-b5e7-413b-81a5-233e587f1d73.c000.snappy.parquet to s3://722687989925-trusted/estado=GO/part-00000-12613c9b-b5e7-413b-81a5-233e587f1d73.c000.snappy.parquet\n",
      "upload: trusted/estado=DF/part-00000-12613c9b-b5e7-413b-81a5-233e587f1d73.c000.snappy.parquet to s3://722687989925-trusted/estado=DF/part-00000-12613c9b-b5e7-413b-81a5-233e587f1d73.c000.snappy.parquet\n",
      "upload: trusted/estado=MA/part-00000-12613c9b-b5e7-413b-81a5-233e587f1d73.c000.snappy.parquet to s3://722687989925-trusted/estado=MA/part-00000-12613c9b-b5e7-413b-81a5-233e587f1d73.c000.snappy.parquet\n",
      "upload: trusted/estado=MG/.part-00000-12613c9b-b5e7-413b-81a5-233e587f1d73.c000.snappy.parquet.crc to s3://722687989925-trusted/estado=MG/.part-00000-12613c9b-b5e7-413b-81a5-233e587f1d73.c000.snappy.parquet.crc\n",
      "upload: trusted/estado=MS/.part-00000-12613c9b-b5e7-413b-81a5-233e587f1d73.c000.snappy.parquet.crc to s3://722687989925-trusted/estado=MS/.part-00000-12613c9b-b5e7-413b-81a5-233e587f1d73.c000.snappy.parquet.crc\n",
      "upload: trusted/estado=MA/.part-00000-12613c9b-b5e7-413b-81a5-233e587f1d73.c000.snappy.parquet.crc to s3://722687989925-trusted/estado=MA/.part-00000-12613c9b-b5e7-413b-81a5-233e587f1d73.c000.snappy.parquet.crc\n",
      "upload: trusted/estado=MG/part-00000-12613c9b-b5e7-413b-81a5-233e587f1d73.c000.snappy.parquet to s3://722687989925-trusted/estado=MG/part-00000-12613c9b-b5e7-413b-81a5-233e587f1d73.c000.snappy.parquet\n",
      "upload: trusted/estado=PA/.part-00000-12613c9b-b5e7-413b-81a5-233e587f1d73.c000.snappy.parquet.crc to s3://722687989925-trusted/estado=PA/.part-00000-12613c9b-b5e7-413b-81a5-233e587f1d73.c000.snappy.parquet.crc\n",
      "upload: trusted/estado=PA/part-00000-12613c9b-b5e7-413b-81a5-233e587f1d73.c000.snappy.parquet to s3://722687989925-trusted/estado=PA/part-00000-12613c9b-b5e7-413b-81a5-233e587f1d73.c000.snappy.parquet\n",
      "upload: trusted/estado=MT/part-00000-12613c9b-b5e7-413b-81a5-233e587f1d73.c000.snappy.parquet to s3://722687989925-trusted/estado=MT/part-00000-12613c9b-b5e7-413b-81a5-233e587f1d73.c000.snappy.parquet\n",
      "upload: trusted/estado=MS/part-00000-12613c9b-b5e7-413b-81a5-233e587f1d73.c000.snappy.parquet to s3://722687989925-trusted/estado=MS/part-00000-12613c9b-b5e7-413b-81a5-233e587f1d73.c000.snappy.parquet\n",
      "upload: trusted/estado=PI/.part-00000-12613c9b-b5e7-413b-81a5-233e587f1d73.c000.snappy.parquet.crc to s3://722687989925-trusted/estado=PI/.part-00000-12613c9b-b5e7-413b-81a5-233e587f1d73.c000.snappy.parquet.crc\n",
      "upload: trusted/estado=PE/.part-00000-12613c9b-b5e7-413b-81a5-233e587f1d73.c000.snappy.parquet.crc to s3://722687989925-trusted/estado=PE/.part-00000-12613c9b-b5e7-413b-81a5-233e587f1d73.c000.snappy.parquet.crc\n",
      "upload: trusted/estado=PB/part-00000-12613c9b-b5e7-413b-81a5-233e587f1d73.c000.snappy.parquet to s3://722687989925-trusted/estado=PB/part-00000-12613c9b-b5e7-413b-81a5-233e587f1d73.c000.snappy.parquet\n",
      "upload: trusted/estado=PB/.part-00000-12613c9b-b5e7-413b-81a5-233e587f1d73.c000.snappy.parquet.crc to s3://722687989925-trusted/estado=PB/.part-00000-12613c9b-b5e7-413b-81a5-233e587f1d73.c000.snappy.parquet.crc\n",
      "upload: trusted/estado=PE/part-00000-12613c9b-b5e7-413b-81a5-233e587f1d73.c000.snappy.parquet to s3://722687989925-trusted/estado=PE/part-00000-12613c9b-b5e7-413b-81a5-233e587f1d73.c000.snappy.parquet\n",
      "upload: trusted/estado=MT/.part-00000-12613c9b-b5e7-413b-81a5-233e587f1d73.c000.snappy.parquet.crc to s3://722687989925-trusted/estado=MT/.part-00000-12613c9b-b5e7-413b-81a5-233e587f1d73.c000.snappy.parquet.crc\n",
      "upload: trusted/estado=RJ/.part-00000-12613c9b-b5e7-413b-81a5-233e587f1d73.c000.snappy.parquet.crc to s3://722687989925-trusted/estado=RJ/.part-00000-12613c9b-b5e7-413b-81a5-233e587f1d73.c000.snappy.parquet.crc\n",
      "upload: trusted/estado=PR/.part-00000-12613c9b-b5e7-413b-81a5-233e587f1d73.c000.snappy.parquet.crc to s3://722687989925-trusted/estado=PR/.part-00000-12613c9b-b5e7-413b-81a5-233e587f1d73.c000.snappy.parquet.crc\n",
      "upload: trusted/estado=PI/part-00000-12613c9b-b5e7-413b-81a5-233e587f1d73.c000.snappy.parquet to s3://722687989925-trusted/estado=PI/part-00000-12613c9b-b5e7-413b-81a5-233e587f1d73.c000.snappy.parquet\n",
      "upload: trusted/estado=PR/part-00000-12613c9b-b5e7-413b-81a5-233e587f1d73.c000.snappy.parquet to s3://722687989925-trusted/estado=PR/part-00000-12613c9b-b5e7-413b-81a5-233e587f1d73.c000.snappy.parquet\n",
      "upload: trusted/estado=RN/.part-00000-12613c9b-b5e7-413b-81a5-233e587f1d73.c000.snappy.parquet.crc to s3://722687989925-trusted/estado=RN/.part-00000-12613c9b-b5e7-413b-81a5-233e587f1d73.c000.snappy.parquet.crc\n",
      "upload: trusted/estado=RN/part-00000-12613c9b-b5e7-413b-81a5-233e587f1d73.c000.snappy.parquet to s3://722687989925-trusted/estado=RN/part-00000-12613c9b-b5e7-413b-81a5-233e587f1d73.c000.snappy.parquet\n",
      "upload: trusted/estado=RO/.part-00000-12613c9b-b5e7-413b-81a5-233e587f1d73.c000.snappy.parquet.crc to s3://722687989925-trusted/estado=RO/.part-00000-12613c9b-b5e7-413b-81a5-233e587f1d73.c000.snappy.parquet.crc\n",
      "upload: trusted/estado=RO/part-00000-12613c9b-b5e7-413b-81a5-233e587f1d73.c000.snappy.parquet to s3://722687989925-trusted/estado=RO/part-00000-12613c9b-b5e7-413b-81a5-233e587f1d73.c000.snappy.parquet\n",
      "upload: trusted/estado=RR/.part-00000-12613c9b-b5e7-413b-81a5-233e587f1d73.c000.snappy.parquet.crc to s3://722687989925-trusted/estado=RR/.part-00000-12613c9b-b5e7-413b-81a5-233e587f1d73.c000.snappy.parquet.crc\n",
      "upload: trusted/estado=RR/part-00000-12613c9b-b5e7-413b-81a5-233e587f1d73.c000.snappy.parquet to s3://722687989925-trusted/estado=RR/part-00000-12613c9b-b5e7-413b-81a5-233e587f1d73.c000.snappy.parquet\n",
      "upload: trusted/estado=RS/.part-00000-12613c9b-b5e7-413b-81a5-233e587f1d73.c000.snappy.parquet.crc to s3://722687989925-trusted/estado=RS/.part-00000-12613c9b-b5e7-413b-81a5-233e587f1d73.c000.snappy.parquet.crc\n",
      "upload: trusted/estado=RS/part-00000-12613c9b-b5e7-413b-81a5-233e587f1d73.c000.snappy.parquet to s3://722687989925-trusted/estado=RS/part-00000-12613c9b-b5e7-413b-81a5-233e587f1d73.c000.snappy.parquet\n",
      "upload: trusted/estado=SC/.part-00000-12613c9b-b5e7-413b-81a5-233e587f1d73.c000.snappy.parquet.crc to s3://722687989925-trusted/estado=SC/.part-00000-12613c9b-b5e7-413b-81a5-233e587f1d73.c000.snappy.parquet.crc\n",
      "upload: trusted/estado=SC/part-00000-12613c9b-b5e7-413b-81a5-233e587f1d73.c000.snappy.parquet to s3://722687989925-trusted/estado=SC/part-00000-12613c9b-b5e7-413b-81a5-233e587f1d73.c000.snappy.parquet\n",
      "upload: trusted/estado=SP/.part-00000-12613c9b-b5e7-413b-81a5-233e587f1d73.c000.snappy.parquet.crc to s3://722687989925-trusted/estado=SP/.part-00000-12613c9b-b5e7-413b-81a5-233e587f1d73.c000.snappy.parquet.crc\n",
      "upload: trusted/estado=SE/.part-00000-12613c9b-b5e7-413b-81a5-233e587f1d73.c000.snappy.parquet.crc to s3://722687989925-trusted/estado=SE/.part-00000-12613c9b-b5e7-413b-81a5-233e587f1d73.c000.snappy.parquet.crc\n",
      "upload: trusted/estado=SE/part-00000-12613c9b-b5e7-413b-81a5-233e587f1d73.c000.snappy.parquet to s3://722687989925-trusted/estado=SE/part-00000-12613c9b-b5e7-413b-81a5-233e587f1d73.c000.snappy.parquet\n",
      "upload: trusted/estado=SP/part-00000-12613c9b-b5e7-413b-81a5-233e587f1d73.c000.snappy.parquet to s3://722687989925-trusted/estado=SP/part-00000-12613c9b-b5e7-413b-81a5-233e587f1d73.c000.snappy.parquet\n",
      "upload: trusted/estado=RJ/part-00000-12613c9b-b5e7-413b-81a5-233e587f1d73.c000.snappy.parquet to s3://722687989925-trusted/estado=RJ/part-00000-12613c9b-b5e7-413b-81a5-233e587f1d73.c000.snappy.parquet\n",
      "upload: trusted/estado=TO/part-00000-12613c9b-b5e7-413b-81a5-233e587f1d73.c000.snappy.parquet to s3://722687989925-trusted/estado=TO/part-00000-12613c9b-b5e7-413b-81a5-233e587f1d73.c000.snappy.parquet\n",
      "upload: trusted/estado=TO/.part-00000-12613c9b-b5e7-413b-81a5-233e587f1d73.c000.snappy.parquet.crc to s3://722687989925-trusted/estado=TO/.part-00000-12613c9b-b5e7-413b-81a5-233e587f1d73.c000.snappy.parquet.crc\n"
     ]
    }
   ],
   "source": [
    "#uploading to trusted\n",
    "!aws s3 cp ./trusted/ s3://722687989925-trusted/ --recursive\n"
   ]
  },
  {
   "cell_type": "code",
   "execution_count": 3,
   "metadata": {},
   "outputs": [
    {
     "ename": "NameError",
     "evalue": "name 'df_transform' is not defined",
     "output_type": "error",
     "traceback": [
      "\u001b[0;31m---------------------------------------------------------------------------\u001b[0m",
      "\u001b[0;31mNameError\u001b[0m                                 Traceback (most recent call last)",
      "\u001b[0;32m/tmp/ipykernel_26686/4275603058.py\u001b[0m in \u001b[0;36m<module>\u001b[0;34m\u001b[0m\n\u001b[0;32m----> 1\u001b[0;31m \u001b[0mdf_transform\u001b[0m\u001b[0;34m.\u001b[0m\u001b[0mshow\u001b[0m\u001b[0;34m(\u001b[0m\u001b[0;34m)\u001b[0m\u001b[0;34m\u001b[0m\u001b[0;34m\u001b[0m\u001b[0m\n\u001b[0m",
      "\u001b[0;31mNameError\u001b[0m: name 'df_transform' is not defined"
     ]
    }
   ],
   "source": []
  }
 ],
 "metadata": {
  "kernelspec": {
   "display_name": "Python 3",
   "language": "python",
   "name": "python3"
  },
  "language_info": {
   "codemirror_mode": {
    "name": "ipython",
    "version": 3
   },
   "file_extension": ".py",
   "mimetype": "text/x-python",
   "name": "python",
   "nbconvert_exporter": "python",
   "pygments_lexer": "ipython3",
   "version": "3.8.10"
  },
  "orig_nbformat": 4
 },
 "nbformat": 4,
 "nbformat_minor": 2
}
