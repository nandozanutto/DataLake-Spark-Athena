{
 "cells": [
  {
   "cell_type": "code",
   "execution_count": null,
   "metadata": {},
   "outputs": [],
   "source": [
    "from pyspark.sql import SparkSession\n",
    "from pyspark import SparkConf, SparkContext\n",
    "from  pyspark.sql.functions import to_date\n",
    "from pyspark.sql.functions import col\n",
    "\n",
    "conf = SparkConf().set('spark.ui.port', '4050')\n",
    "sc = SparkContext(conf=conf)\n",
    "sc.stop()\n",
    "\n",
    "spark = (\n",
    "    SparkSession.builder\n",
    "    .appName(\"Desafio2_business\")\n",
    "    .getOrCreate()\n",
    ")"
   ]
  },
  {
   "cell_type": "code",
   "execution_count": null,
   "metadata": {},
   "outputs": [],
   "source": [
    "!aws s3 cp s3://722687989925-trusted/ ./dadosDaTrusted --recursive"
   ]
  },
  {
   "cell_type": "code",
   "execution_count": null,
   "metadata": {},
   "outputs": [],
   "source": [
    "df = spark.read.parquet(\"./dadosDaTrusted/\")"
   ]
  },
  {
   "cell_type": "code",
   "execution_count": 28,
   "metadata": {},
   "outputs": [
    {
     "name": "stdout",
     "output_type": "stream",
     "text": [
      "root\n",
      " |-- nome: string (nullable = true)\n",
      " |-- placa: string (nullable = true)\n",
      " |-- modelo_carro: string (nullable = true)\n",
      " |-- cor_carro: string (nullable = true)\n",
      " |-- total_multas: integer (nullable = true)\n",
      " |-- genero: string (nullable = true)\n",
      " |-- endereco: string (nullable = true)\n",
      " |-- cidade: string (nullable = true)\n",
      " |-- ultima_multa: date (nullable = true)\n",
      " |-- ultima_multa_endereço: string (nullable = true)\n",
      " |-- estado: string (nullable = true)\n",
      "\n"
     ]
    }
   ],
   "source": [
    "df.printSchema()"
   ]
  },
  {
   "cell_type": "code",
   "execution_count": 40,
   "metadata": {},
   "outputs": [],
   "source": [
    "norte = [\"AM\", 'PA', 'AC', 'RR', 'RO', 'AP', 'TO']\n",
    "nordeste = ['MA', 'PI', 'CE', 'RN', 'PB', 'PE', 'AL', 'SE', 'BA']\n",
    "sul = ['PR', 'SC', 'RS']\n",
    "sudeste = ['ES', 'MG', 'RJ', 'SP']\n",
    "centro_oeste = ['GO', 'MT', 'MS', 'DF']\n",
    "\n",
    "from pyspark.sql.functions import when\n",
    "from pyspark.sql.functions import col\n",
    "\n",
    "df_transform = df.withColumn('regiao', \n",
    "                   when(df['estado'].isin(norte), \"norte\")\n",
    "                   .when(df['estado'].isin(nordeste), \"nordeste\")\n",
    "                   .when(df['estado'].isin(sul), \"sul\")\n",
    "                   .when(df['estado'].isin(sudeste), \"sudeste\")\n",
    "                   .when(df['estado'].isin(centro_oeste), \"centro_oeste\")\n",
    "                   .otherwise(0))\n",
    "\n",
    "df_transform = df_transform.groupBy(\"regiao\").sum(\"total_multas\")"
   ]
  },
  {
   "cell_type": "code",
   "execution_count": 41,
   "metadata": {},
   "outputs": [
    {
     "name": "stderr",
     "output_type": "stream",
     "text": [
      "                                                                                \r"
     ]
    }
   ],
   "source": [
    "df_transform.write.mode('overwrite').parquet('business/')"
   ]
  },
  {
   "cell_type": "code",
   "execution_count": 42,
   "metadata": {},
   "outputs": [
    {
     "name": "stdout",
     "output_type": "stream",
     "text": [
      "upload: business/_SUCCESS to s3://722687989925-business/_SUCCESS\n",
      "upload: business/.part-00000-9d570de6-1e06-4e23-b380-e32e3ea4abd6-c000.snappy.parquet.crc to s3://722687989925-business/.part-00000-9d570de6-1e06-4e23-b380-e32e3ea4abd6-c000.snappy.parquet.crc\n",
      "upload: business/part-00000-9d570de6-1e06-4e23-b380-e32e3ea4abd6-c000.snappy.parquet to s3://722687989925-business/part-00000-9d570de6-1e06-4e23-b380-e32e3ea4abd6-c000.snappy.parquet\n",
      "upload: business/._SUCCESS.crc to s3://722687989925-business/._SUCCESS.crc\n"
     ]
    }
   ],
   "source": [
    "#uploading to business\n",
    "!aws s3 cp ./business/ s3://722687989925-business/ --recursive"
   ]
  },
  {
   "cell_type": "code",
   "execution_count": 43,
   "metadata": {},
   "outputs": [
    {
     "name": "stdout",
     "output_type": "stream",
     "text": [
      "root\n",
      " |-- regiao: string (nullable = false)\n",
      " |-- sum(total_multas): long (nullable = true)\n",
      "\n"
     ]
    }
   ],
   "source": [
    "df_transform.printSchema()"
   ]
  }
 ],
 "metadata": {
  "kernelspec": {
   "display_name": "Python 3",
   "language": "python",
   "name": "python3"
  },
  "language_info": {
   "codemirror_mode": {
    "name": "ipython",
    "version": 3
   },
   "file_extension": ".py",
   "mimetype": "text/x-python",
   "name": "python",
   "nbconvert_exporter": "python",
   "pygments_lexer": "ipython3",
   "version": "3.8.10"
  },
  "orig_nbformat": 4
 },
 "nbformat": 4,
 "nbformat_minor": 2
}
